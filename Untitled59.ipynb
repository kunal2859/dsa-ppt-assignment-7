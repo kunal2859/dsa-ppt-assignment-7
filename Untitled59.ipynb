{
 "cells": [
  {
   "cell_type": "code",
   "execution_count": 3,
   "id": "e74d7f5b",
   "metadata": {},
   "outputs": [
    {
     "data": {
      "text/plain": [
       "True"
      ]
     },
     "execution_count": 3,
     "metadata": {},
     "output_type": "execute_result"
    }
   ],
   "source": [
    "def isomorphic(s,t):\n",
    "    zipped_set = set(zip(s, t))\n",
    "    if len(zipped_set) == len(set(s)) == len(set(t)):\n",
    "        return True\n",
    "    else:\n",
    "        return False\n",
    "    \n",
    "s=\"add\"\n",
    "t=\"egg\"\n",
    "isomorphic(s,t)"
   ]
  },
  {
   "cell_type": "code",
   "execution_count": 5,
   "id": "7da7ab46",
   "metadata": {},
   "outputs": [
    {
     "data": {
      "text/plain": [
       "True"
      ]
     },
     "execution_count": 5,
     "metadata": {},
     "output_type": "execute_result"
    }
   ],
   "source": [
    "def isStrobogrammatic(num):\n",
    "    maps = {(\"0\", \"0\"), (\"1\", \"1\"), (\"6\", \"9\"), (\"8\", \"8\"), (\"9\", \"6\")}\n",
    "    i,j = 0, len(num) - 1\n",
    "    while i <= j:\n",
    "        if (num[i], num[j]) not in maps:\n",
    "            return False\n",
    "        i += 1\n",
    "        j -= 1\n",
    "    return True\n",
    "\n",
    "num=\"69\"\n",
    "isStrobogrammatic(num)"
   ]
  },
  {
   "cell_type": "code",
   "execution_count": 14,
   "id": "b7b81655",
   "metadata": {},
   "outputs": [
    {
     "name": "stdout",
     "output_type": "stream",
     "text": [
      "<class 'str'>\n",
      "134\n"
     ]
    }
   ],
   "source": [
    "num1 = '11'\n",
    "num2 = '123'\n",
    "integer_first=int(num1)\n",
    "integer_second=int(num2)\n",
    "Sum=integer_first+integer_second\n",
    "Converted_String = str(Sum)\n",
    "print(type(Converted_String))\n",
    "print(Converted_String)"
   ]
  },
  {
   "cell_type": "code",
   "execution_count": 17,
   "id": "19816ba3",
   "metadata": {},
   "outputs": [
    {
     "data": {
      "text/plain": [
       "\"s'teL ekat edoCteeL tsetnoc\""
      ]
     },
     "execution_count": 17,
     "metadata": {},
     "output_type": "execute_result"
    }
   ],
   "source": [
    "def reverse(s):\n",
    "    words=s.split()\n",
    "    ans = \"\"\n",
    "    for i in range(len(words)):\n",
    "        ans += words[i][::-1]\n",
    "        if i != len(words)-1:\n",
    "            ans+=\" \"\n",
    "    return ans\n",
    "\n",
    "s=\"Let's take LeetCode contest\"\n",
    "reverse(s)"
   ]
  },
  {
   "cell_type": "code",
   "execution_count": 20,
   "id": "14a20460",
   "metadata": {},
   "outputs": [
    {
     "data": {
      "text/plain": [
       "'bacdfeg'"
      ]
     },
     "execution_count": 20,
     "metadata": {},
     "output_type": "execute_result"
    }
   ],
   "source": [
    "def reverse(s,k):\n",
    "    mylist = list(s)\n",
    "    for i in range(0, len(mylist), 2*k):\n",
    "        mylist[i:k + i] = reversed(mylist[i:k + i])\n",
    "\n",
    "    return \"\".join(mylist)\n",
    "\n",
    "s = \"abcdefg\"\n",
    "k = 2\n",
    "reverse(s,k)"
   ]
  },
  {
   "cell_type": "code",
   "execution_count": 25,
   "id": "c7bc8184",
   "metadata": {},
   "outputs": [
    {
     "data": {
      "text/plain": [
       "True"
      ]
     },
     "execution_count": 25,
     "metadata": {},
     "output_type": "execute_result"
    }
   ],
   "source": [
    "def similarString(s,goal):\n",
    "    if s==goal:\n",
    "        return True\n",
    "    s=list(s)\n",
    "    goal=list(goal)\n",
    "    for i in range(len(s)):\n",
    "        a=s[0]\n",
    "        s.remove(a)\n",
    "        s.append(a)\n",
    "        if s==goal:\n",
    "            return True\n",
    "    return False\n",
    "\n",
    "s = \"abcde\" \n",
    "goal = \"cdeab\"\n",
    "similarString(s,goal)"
   ]
  },
  {
   "cell_type": "code",
   "execution_count": 26,
   "id": "d59ffae1",
   "metadata": {},
   "outputs": [
    {
     "data": {
      "text/plain": [
       "True"
      ]
     },
     "execution_count": 26,
     "metadata": {},
     "output_type": "execute_result"
    }
   ],
   "source": [
    "def backspace(s,t):\n",
    "    x=[]\n",
    "    y=[]\n",
    "    for i in range(len(s)):\n",
    "        if s[i]==\"#\":\n",
    "            if x:\n",
    "                x.pop()\n",
    "        else:\n",
    "            x.append(s[i])\n",
    "    for i in range(len(t)):\n",
    "        if t[i]==\"#\":\n",
    "            if y:\n",
    "                y.pop()\n",
    "        else:\n",
    "            y.append(t[i])\n",
    "    if x==y:\n",
    "        return True\n",
    "    return False\n",
    "\n",
    "s=\"ab#c\"\n",
    "t=\"ad#c\"\n",
    "backspace(s,t)"
   ]
  },
  {
   "cell_type": "code",
   "execution_count": 28,
   "id": "8e39820a",
   "metadata": {},
   "outputs": [
    {
     "data": {
      "text/plain": [
       "True"
      ]
     },
     "execution_count": 28,
     "metadata": {},
     "output_type": "execute_result"
    }
   ],
   "source": [
    "def straightLine(coordinates):\n",
    "    x1, y1 = coordinates[0]\n",
    "    x2, y2 = coordinates[1]\n",
    "\n",
    "    for i in range(2, len(coordinates)):\n",
    "        x, y = coordinates[i]\n",
    "        if (x - x2) * (y2 - y1) != (y - y2) * (x2 - x1):\n",
    "            return False\n",
    "    return True\n",
    "coordinates = [[1,2],[2,3],[3,4],[4,5],[5,6],[6,7]]\n",
    "straightLine(coordinates)"
   ]
  }
 ],
 "metadata": {
  "kernelspec": {
   "display_name": "Python 3 (ipykernel)",
   "language": "python",
   "name": "python3"
  },
  "language_info": {
   "codemirror_mode": {
    "name": "ipython",
    "version": 3
   },
   "file_extension": ".py",
   "mimetype": "text/x-python",
   "name": "python",
   "nbconvert_exporter": "python",
   "pygments_lexer": "ipython3",
   "version": "3.9.13"
  }
 },
 "nbformat": 4,
 "nbformat_minor": 5
}
